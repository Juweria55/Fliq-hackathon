{
  "cells": [
    {
      "cell_type": "code",
      "execution_count": null,
      "id": "464d9248",
      "metadata": {
        "colab": {
          "base_uri": "https://localhost:8080/"
        },
        "id": "464d9248",
        "outputId": "c1fe8081-5e76-457f-f3fc-e35c69675500"
      },
      "outputs": [
        {
          "name": "stdout",
          "output_type": "stream",
          "text": [
            "Requirement already satisfied: numpy in /usr/local/lib/python3.11/dist-packages (2.0.2)\n",
            "Requirement already satisfied: matplotlib in /usr/local/lib/python3.11/dist-packages (3.10.0)\n",
            "Requirement already satisfied: contourpy>=1.0.1 in /usr/local/lib/python3.11/dist-packages (from matplotlib) (1.3.2)\n",
            "Requirement already satisfied: cycler>=0.10 in /usr/local/lib/python3.11/dist-packages (from matplotlib) (0.12.1)\n",
            "Requirement already satisfied: fonttools>=4.22.0 in /usr/local/lib/python3.11/dist-packages (from matplotlib) (4.58.0)\n",
            "Requirement already satisfied: kiwisolver>=1.3.1 in /usr/local/lib/python3.11/dist-packages (from matplotlib) (1.4.8)\n",
            "Requirement already satisfied: numpy>=1.23 in /usr/local/lib/python3.11/dist-packages (from matplotlib) (2.0.2)\n",
            "Requirement already satisfied: packaging>=20.0 in /usr/local/lib/python3.11/dist-packages (from matplotlib) (24.2)\n",
            "Requirement already satisfied: pillow>=8 in /usr/local/lib/python3.11/dist-packages (from matplotlib) (11.2.1)\n",
            "Requirement already satisfied: pyparsing>=2.3.1 in /usr/local/lib/python3.11/dist-packages (from matplotlib) (3.2.3)\n",
            "Requirement already satisfied: python-dateutil>=2.7 in /usr/local/lib/python3.11/dist-packages (from matplotlib) (2.9.0.post0)\n",
            "Requirement already satisfied: six>=1.5 in /usr/local/lib/python3.11/dist-packages (from python-dateutil>=2.7->matplotlib) (1.17.0)\n"
          ]
        }
      ],
      "source": [
        "# Package Imports - feel free to add what you think might be useful!\n",
        "%pip install numpy\n",
        "%pip install matplotlib\n",
        "\n",
        "import numpy as np\n",
        "import matplotlib.pyplot as plt"
      ]
    },
    {
      "cell_type": "markdown",
      "id": "41bd5b50",
      "metadata": {
        "id": "41bd5b50"
      },
      "source": [
        "## Task 1: Playing with Pseudo-Randomness"
      ]
    },
    {
      "cell_type": "markdown",
      "id": "5af55384",
      "metadata": {
        "id": "5af55384"
      },
      "source": [
        "### Part A: Implement and Benchmark an LCG"
      ]
    },
    {
      "cell_type": "code",
      "execution_count": null,
      "id": "1381c390",
      "metadata": {
        "id": "1381c390"
      },
      "outputs": [],
      "source": [
        "def Linear_Congruential_Generator(seed, multipler, increment, modulus):\n",
        "    sequence = []\n",
        "    #pass # TODO: implement the LCG here!\n",
        "    current_value = seed # Start with the initial seed\n",
        "    for _ in range(modulus):\n",
        "        # Correct LCG implementation: X_n+1 = (a*X_n + c) mod m\n",
        "        current_value = (multipler * current_value + increment) % modulus\n",
        "        sequence.append(current_value)            # TODO: implement the LCG here!\n",
        "    return sequence"
      ]
    },
    {
      "cell_type": "code",
      "execution_count": null,
      "id": "4b64d89c",
      "metadata": {
        "colab": {
          "base_uri": "https://localhost:8080/"
        },
        "id": "4b64d89c",
        "outputId": "6294aab2-02c6-405c-af96-bcb8458a4518"
      },
      "outputs": [
        {
          "output_type": "stream",
          "name": "stdout",
          "text": [
            "The parameters satisfy the Hull-Dobell Theorem.\n"
          ]
        }
      ],
      "source": [
        "def hull_dobell_check(modulus, multiplier, increment):\n",
        "    # GCD function\n",
        "    def gcd(a, b):\n",
        "        while b != 0:\n",
        "            a, b = b, a % b\n",
        "        return a\n",
        "\n",
        "    # Condition 1: m and c are coprime\n",
        "    if gcd(modulus, increment) != 1:\n",
        "        return False\n",
        "\n",
        "    # Condition 2: a - 1 is divisible by all prime factors of m\n",
        "    def get_prime_factors(n):\n",
        "        prime_factors = set()\n",
        "        i = 2\n",
        "        while i * i <= n:\n",
        "            while n % i == 0:\n",
        "                prime_factors.add(i)\n",
        "                n //= i\n",
        "            i += 1\n",
        "        if n > 1:\n",
        "            prime_factors.add(n)\n",
        "        return prime_factors\n",
        "\n",
        "    prime_factors = get_prime_factors(modulus)\n",
        "    for p in prime_factors:\n",
        "        if (multiplier - 1) % p != 0:\n",
        "            return False\n",
        "\n",
        "    # Condition 3: if m is divisible by 4, then (a - 1) must be divisible by 4\n",
        "    if modulus % 4 == 0 and (multiplier - 1) % 4 != 0:\n",
        "        return False\n",
        "\n",
        "    return True\n",
        "\n",
        "#Example\n",
        "modulus = 9\n",
        "multiplier = 4\n",
        "increment = 2\n",
        "\n",
        "if hull_dobell_check(modulus, multiplier, increment):\n",
        "    print(\"The parameters satisfy the Hull-Dobell Theorem.\")\n",
        "else:\n",
        "    print(\"The parameters do not satisfy the Hull-Dobell Theorem.\")\n",
        "\n",
        "\n",
        "\n"
      ]
    },
    {
      "cell_type": "code",
      "execution_count": null,
      "id": "3edfacb1",
      "metadata": {
        "colab": {
          "base_uri": "https://localhost:8080/"
        },
        "id": "3edfacb1",
        "outputId": "6c5d5d9d-422c-462a-a020-5a5e7552449a"
      },
      "outputs": [
        {
          "output_type": "stream",
          "name": "stdout",
          "text": [
            "[17, 43, 95, 199, 407, 823, 1655, 3319, 6647, 13303]\n"
          ]
        }
      ],
      "source": [
        "# TODO: run your generator for at least 10e6 steps\n",
        "a = Linear_Congruential_Generator(multiplier, increment, modulus, int(1e7))\n",
        "\n",
        "print(a[:10])\n"
      ]
    },
    {
      "cell_type": "code",
      "execution_count": null,
      "id": "4a4b6af6",
      "metadata": {
        "id": "4a4b6af6",
        "colab": {
          "base_uri": "https://localhost:8080/",
          "height": 507
        },
        "outputId": "1c6920f3-1745-465a-e50f-026f56f68d68"
      },
      "outputs": [
        {
          "output_type": "display_data",
          "data": {
            "text/plain": [
              "<Figure size 1000x500 with 1 Axes>"
            ],
            "image/png": "[encoded data removed]"
          },
          "metadata": {}
        }
      ],
      "source": [
        "\n",
        "import matplotlib.pyplot as plt\n",
        "\n",
        "# TODO: plot a histogram of the generated numbers to visualize distribution\n",
        "plt.figure(figsize=(10, 5))\n",
        "plt.hist(a, bins=55, color='orange', edgecolor='black')\n",
        "plt.title(\"Histogram of LCG Generated Values\")\n",
        "plt.xlabel(\"Generated Values\")\n",
        "plt.ylabel(\"Frequency\")\n",
        "plt.grid(True)\n",
        "plt.tight_layout()\n",
        "plt.show()\n"
      ]
    },
    {
      "cell_type": "code",
      "execution_count": null,
      "id": "e0ad0145",
      "metadata": {
        "id": "e0ad0145",
        "colab": {
          "base_uri": "https://localhost:8080/"
        },
        "outputId": "1ed76065-b4ea-4d23-d081-2744f4824cb6"
      },
      "outputs": [
        {
          "output_type": "stream",
          "name": "stdout",
          "text": [
            "Shannon Entropy: 2.1492553971685\n"
          ]
        }
      ],
      "source": [
        "import numpy as np\n",
        "\n",
        "def compute_entropy(X): #here X is the list of prob\n",
        "    X = np.asarray(X) # converts the input list X to numpy array, ie. floating point no to ensure math oper\n",
        "    X = X[X > 0]   #removes any 0 or neg values as log(0) undefined leads to -inf\n",
        "    probs = X / np.sum(X)  # Normalize to create a valid probabilities, divides ech value by total sum of all values\n",
        "    return -np.sum(probs * np.log2(probs))#shanons entropy formula (calculation of s entropy)\n",
        "    #H(X)=−∑p(x)log2p(x)\n",
        "\n",
        "X = [1, 2, 3, 4, 5]#test i/p of relative freq of some outcomes.\n",
        "print(\"Shannon Entropy:\", compute_entropy(X))#prints final entropy value with the label\n",
        "\n"
      ]
    },
    {
      "cell_type": "code",
      "execution_count": null,
      "id": "9c7ed2e3",
      "metadata": {
        "id": "9c7ed2e3",
        "colab": {
          "base_uri": "https://localhost:8080/",
          "height": 507
        },
        "outputId": "ec5895d5-c63b-4db1-fa71-d40e414f388a"
      },
      "outputs": [
        {
          "output_type": "display_data",
          "data": {
            "text/plain": [
              "<Figure size 1000x500 with 1 Axes>"
            ],
            "image/png": "[encoded data removed]"
          },
          "metadata": {}
        }
      ],
      "source": [
        "# Generate sequence\n",
        "import numpy as np\n",
        "import matplotlib.pyplot as plt\n",
        "from collections import Counter\n",
        "\n",
        "# --- Step 1: Fix a short seed value (no more than 2^10 values) ---\n",
        "seed = 42  # Must be less than 1024 (2^10)\n",
        "\n",
        "# --- LCG Parameters (should satisfy Hull-Dobell conditions for full period) ---\n",
        "modulus = 9973\n",
        "multiplier = 23\n",
        "increment = 97\n",
        "\n",
        "# --- Step 2 & 3: Generate LCG and compute entropy over time ---\n",
        "def compute_shannon_entropy(data):\n",
        "    \"\"\"Compute Shannon entropy from a sequence\"\"\"\n",
        "    total = len(data)\n",
        "    freq = Counter(data)\n",
        "    probs = np.array([count / total for count in freq.values()])\n",
        "    return -np.sum(probs * np.log2(probs))\n",
        "\n",
        "# Initialize\n",
        "total_steps = 10**6\n",
        "interval = 1000\n",
        "sequence = []\n",
        "entropies = []\n",
        "steps = []\n",
        "\n",
        "current_value = seed\n",
        "\n",
        "# Generate LCG sequence and compute entropy at intervals\n",
        "for i in range(1, total_steps + 1):\n",
        "    current_value = (multiplier * current_value + increment) % modulus\n",
        "    sequence.append(current_value)\n",
        "\n",
        "    if i % interval == 0:\n",
        "        entropy = compute_shannon_entropy(sequence)\n",
        "        entropies.append(entropy)\n",
        "        steps.append(i)\n",
        "\n",
        "# --- Step 4: Plot Shannon Entropy over iterations ---\n",
        "plt.figure(figsize=(10, 5))\n",
        "plt.plot(steps, entropies, color='navy')\n",
        "plt.title(\"Shannon Entropy Over LCG Iterations\")\n",
        "plt.xlabel(\"Number of Iterations\")\n",
        "plt.ylabel(\"Shannon Entropy (bits)\")\n",
        "plt.grid(True)\n",
        "plt.tight_layout()\n",
        "plt.show()\n",
        "\n",
        "\n",
        "\"\"\"\n",
        "1. fix a short seed value for each LCG\n",
        "(no more than 2^10 possible values for the seed)\n",
        "\n",
        "2. Over a long LCG sequence (at least 10^6 samples),\n",
        "as the generator produces values, treat the sequence of outputs\n",
        "up to each step as a growing empirical distribution.\n",
        "\n",
        "3. At regular intervals (e.g., every 1000 iterations),\n",
        "compute the Shannon Entropy or Min-Entropy\n",
        "of the current sample distribution.\n",
        "\n",
        "Hint: We've already imported matplotlib for you,\n",
        "though any plotting package will do the trick.\n",
        "\"\"\"\n",
        "#pass # TODO: Plot how the Shannon Entropy or Min-Entropy evolves with the number of iterations for each LCG configuration."
      ]
    },
    {
      "cell_type": "markdown",
      "id": "1d7e9368",
      "metadata": {
        "id": "1d7e9368"
      },
      "source": [
        "### Part B: Implement and Benchmark AES-Based PRNGs"
      ]
    },
    {
      "cell_type": "code",
      "execution_count": null,
      "id": "b5932162",
      "metadata": {
        "id": "b5932162"
      },
      "outputs": [],
      "source": [
        "# Here is a reference implementation of the AES algorithm: https://github.com/burakozpoyraz/Advanced-Encryption-Standard/tree/master"
      ]
    },
    {
      "cell_type": "code",
      "execution_count": null,
      "id": "6eef4ba5",
      "metadata": {
        "id": "6eef4ba5"
      },
      "outputs": [],
      "source": [
        "# TODO: helper function to pad/truncate the seed to 16 bytes (128 bits)\n",
        "import hashlib\n",
        "\n",
        "\n",
        "def pad_seed(seed_bytes, target_len=16):\n",
        "    if len(seed_bytes) > target_len:\n",
        "        return seed_bytes[:target_len]  # Truncate\n",
        "    padding_len = target_len - len(seed_bytes)\n",
        "    return seed_bytes + bytes([padding_len] * padding_len)  # Pad with PKCS#7 style\n",
        "\n",
        "\n",
        "    # pass  # TODO: pad or truncate the seed appropriately\n",
        "\n",
        "# TODO: implement a simple AES-based PRNG using ECB mode\n",
        "def AES_PRNG(seed, num_bytes):\n",
        "    sequence = []\n",
        "     # pad seed to 16 bytes\n",
        "    seed = pad_seed(seed)\n",
        "\n",
        "    counter = 0\n",
        "    while len(sequence) < num_bytes:\n",
        "        # input is seed + counter as bytes\n",
        "        input_block = seed + counter.to_bytes(4, 'big')\n",
        "\n",
        "        # hash input block with SHA-256\n",
        "        digest = hashlib.sha256(input_block).digest()\n",
        "\n",
        "        # extend sequence with bytes from digest (as ints)\n",
        "        sequence.extend(digest)\n",
        "\n",
        "        counter += 1\n",
        "\n",
        "\n",
        "    # truncate to requested length\n",
        "        return sequence[:num_bytes]\n",
        "\n",
        "\n",
        "\n",
        "    # pass  # TODO: implement AES-based pseudorandom generator\n",
        "    # return sequence"
      ]
    },
    {
      "cell_type": "code",
      "execution_count": null,
      "id": "0dd1c446",
      "metadata": {
        "id": "0dd1c446"
      },
      "outputs": [],
      "source": [
        "# TODO: choose at least 3 different seed lengths (e.g., 8, 16, 64 bits)\n",
        "seed_lengths = [1, 2, 8]  # in bytes\n",
        "\n",
        "# TODO: generate sequences of increasing length (10^5 to 10^7) for each seed length\n",
        "sequence_lengths = [10**5, 10**6, 10**7]"
      ]
    },
    {
      "cell_type": "code",
      "execution_count": null,
      "id": "d713e43a",
      "metadata": {
        "id": "d713e43a"
      },
      "outputs": [],
      "source": [
        "# Example: Generate and store sequences\n",
        "all_sequences = {}\n",
        "\n",
        "for seed_len in seed_lengths:\n",
        "    seed = np.random.bytes(seed_len)\n",
        "    all_sequences[seed_len] = {}\n",
        "\n",
        "    for seq_len in sequence_lengths:\n",
        "        prng_output = AES_PRNG(seed, seq_len)\n",
        "        all_sequences[seed_len][seq_len] = prng_output"
      ]
    },
    {
      "cell_type": "code",
      "execution_count": null,
      "id": "bce1ea26",
      "metadata": {
        "id": "bce1ea26"
      },
      "outputs": [],
      "source": [
        "# TODO: plot entropy across chunks of the output to study randomness\n",
        "def plot_entropy(sequence, window_size=1000):\n",
        "    pass  # TODO: split sequence into chunks and calculate Shannon entropy"
      ]
    },
    {
      "cell_type": "code",
      "execution_count": 26,
      "id": "f687928b",
      "metadata": {
        "id": "f687928b"
      },
      "outputs": [],
      "source": [
        "# TODO: plot autocorrelation vs lag\n",
        "def plot_autocorrelation(sequence, max_lag=100):\n",
        "  sequence = np.array(sequence)\n",
        "  n = len(sequence)\n",
        "  mean = np.mean(sequence)\n",
        "  var = np.var(sequence)\n",
        "\n",
        "  autocorrs = []\n",
        "  for lag in range(max_lag + 1):\n",
        "      if lag == 0:\n",
        "            autocorr = 1.0  # autocorrelation at lag 0 is always 1\n",
        "      else:\n",
        "            autocov = np.sum((sequence[:-lag] - mean) * (sequence[lag:] - mean)) / (n - lag)\n",
        "            autocorr = autocov / var\n",
        "      autocorrs.append(autocorr)\n",
        "\n",
        "  plt.figure(figsize=(8, 4))\n",
        "  plt.stem(range(max_lag + 1), autocorrs, use_line_collection=True)\n",
        "  plt.xlabel('Lag')\n",
        "  plt.ylabel('Autocorrelation')\n",
        "  plt.title('Autocorrelation vs Lag')\n",
        "  plt.grid(True)\n",
        "  plt.show()\n",
        "  pass  # TODO: compute autocorrelation for various lag values"
      ]
    },
    {
      "cell_type": "code",
      "execution_count": 2,
      "id": "c3fc886c",
      "metadata": {
        "id": "c3fc886c",
        "colab": {
          "base_uri": "https://localhost:8080/"
        },
        "outputId": "ed8f9312-8aea-416f-e274-65455f6105e6"
      },
      "outputs": [
        {
          "output_type": "stream",
          "name": "stdout",
          "text": [
            "Running statistical tests...\n",
            "Counts: [18 17 22 18 16 22 22 16 23 15 19 21 18 18 20 20 24 26 19 22 20 19 25 20\n",
            " 23 26 28 24 19 21 24 21 23 17 18 21 25 18 18 12 19 19 18 21 13 12 24 15\n",
            " 26 15]\n",
            "Chi-squared Statistic: 33.7000\n",
            "P-value: 0.9530\n",
            "Sequence appears uniformly random (fail to reject H0 at 5% level).\n"
          ]
        }
      ],
      "source": [
        "import numpy as np\n",
        "from scipy.stats import chisquare\n",
        "\n",
        "# Enhanced version with debug prints\n",
        "def run_statistical_tests(sequence, num_bins=50):\n",
        "    print(\"Running statistical tests...\")\n",
        "\n",
        "    if sequence is None:\n",
        "        print(\"Error: Sequence is None.\")\n",
        "        return\n",
        "\n",
        "    if not isinstance(sequence, (list, np.ndarray)):\n",
        "        print(\"Error: Sequence is not a list or NumPy array.\")\n",
        "        return\n",
        "\n",
        "    if len(sequence) < num_bins:\n",
        "        print(f\"Error: Sequence too short (length {len(sequence)}), need at least {num_bins} samples.\")\n",
        "        return\n",
        "\n",
        "    # Histogram the sequence into bins\n",
        "    counts, bin_edges = np.histogram(sequence, bins=num_bins)\n",
        "    print(f\"Counts: {counts}\")\n",
        "\n",
        "    # Expected uniform count in each bin\n",
        "    expected = np.full_like(counts, fill_value=np.mean(counts))\n",
        "\n",
        "    # Run chi-squared test\n",
        "    chi_stat, p_value = chisquare(f_obs=counts, f_exp=expected)\n",
        "\n",
        "    print(f\"Chi-squared Statistic: {chi_stat:.4f}\")\n",
        "    print(f\"P-value: {p_value:.4f}\")\n",
        "\n",
        "    if p_value < 0.05:\n",
        "        print(\"Sequence is likely NOT uniformly random (reject H0 at 5% level).\")\n",
        "    else:\n",
        "        print(\"Sequence appears uniformly random (fail to reject H0 at 5% level).\")\n",
        "\n",
        "# Example\n",
        "# Let's create a sample sequence of numbers\n",
        "sample_sequence = [np.random.randint(0, 100, 1000)]\n",
        "\n",
        "# Call the function to run the statistical test\n",
        "run_statistical_tests(sample_sequence[0])\n"
      ]
    },
    {
      "cell_type": "markdown",
      "id": "7e04feb2",
      "metadata": {
        "id": "7e04feb2"
      },
      "source": [
        "### (BONUS) Part C: Breaking the Illusion of Randomness"
      ]
    },
    {
      "cell_type": "markdown",
      "id": "c7d78b73",
      "metadata": {
        "id": "c7d78b73"
      },
      "source": [
        "### Bonus Task:\n",
        "Train a light-weight model (small-neural net or decision tree) to predict the next number in your random number sequences generated from LCG and AES. Now try implementing at least one other more robust PRNGs from the list below:\n",
        "- XOR-Shift Generator\n",
        "- Permuted Congruential Generator (PCG)\n",
        "- SplitMix64"
      ]
    },
    {
      "cell_type": "code",
      "execution_count": null,
      "id": "8ba7b852",
      "metadata": {
        "id": "8ba7b852"
      },
      "outputs": [],
      "source": [
        "# You may want to import these packages, though feel free to import anything else you need\n",
        "import torch\n",
        "import torch.nn as nn\n",
        "import torch.nn.functional as F\n",
        "\n",
        "import tensorflow as tf\n",
        "import keras\n",
        "\n",
        "import sklearn"
      ]
    }
  ],
  "metadata": {
    "colab": {
      "provenance": []
    },
    "kernelspec": {
      "display_name": "Python 3",
      "name": "python3"
    },
    "language_info": {
      "name": "python"
    }
  },
  "nbformat": 4,
  "nbformat_minor": 5
}